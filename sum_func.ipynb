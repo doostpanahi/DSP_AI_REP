{
  "nbformat": 4,
  "nbformat_minor": 0,
  "metadata": {
    "colab": {
      "provenance": [],
      "authorship_tag": "ABX9TyMf+p8JulmjddpDdB5htt/J",
      "include_colab_link": true
    },
    "kernelspec": {
      "name": "python3",
      "display_name": "Python 3"
    },
    "language_info": {
      "name": "python"
    }
  },
  "cells": [
    {
      "cell_type": "markdown",
      "metadata": {
        "id": "view-in-github",
        "colab_type": "text"
      },
      "source": [
        "<a href=\"https://colab.research.google.com/github/doostpanahi/DSP_AI_REP/blob/main/sum_func.ipynb\" target=\"_parent\"><img src=\"https://colab.research.google.com/assets/colab-badge.svg\" alt=\"Open In Colab\"/></a>"
      ]
    },
    {
      "cell_type": "code",
      "execution_count": 9,
      "metadata": {
        "colab": {
          "base_uri": "https://localhost:8080/"
        },
        "id": "20nFzHYTNqWc",
        "outputId": "932d1093-e75a-4998-a338-8fe6ad6c9236"
      },
      "outputs": [
        {
          "output_type": "stream",
          "name": "stdout",
          "text": [
            "result is :  13\n"
          ]
        }
      ],
      "source": [
        "def sum(num1, num2):\n",
        "    return num1 + num2\n",
        "a=5\n",
        "b=8\n",
        "print('result is : ',sum(a, b))"
      ]
    }
  ]
}